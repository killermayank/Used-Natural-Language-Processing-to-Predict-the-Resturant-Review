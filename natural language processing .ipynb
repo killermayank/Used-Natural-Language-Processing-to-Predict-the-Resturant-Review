{
 "cells": [
  {
   "cell_type": "code",
   "execution_count": null,
   "metadata": {},
   "outputs": [
    {
     "name": "stdout",
     "output_type": "stream",
     "text": [
      "[nltk_data] Downloading package stopwords to C:\\Users\\Mayank\n",
      "[nltk_data]     Sharma\\AppData\\Roaming\\nltk_data...\n",
      "[nltk_data]   Package stopwords is already up-to-date!\n"
     ]
    }
   ],
   "source": [
    "# Importing the libraries\n",
    "\n",
    "import numpy as np\n",
    "import pandas as pd\n",
    "import matplotlib.pyplot as plt\n",
    "\n",
    "# Importing the dataset\n",
    "dataset = pd.read_csv('Restaurant_Reviews.tsv', delimiter = '\\t', quoting = 3)\n",
    "\n",
    "# Clearing the texts\n",
    "import re\n",
    "import nltk\n",
    "# downloading  the stopwords \n",
    "nltk.download('stopwords')\n",
    "# as it is been downloaded in the nltk so just importing it from nltk\n",
    "from nltk.corpus import stopwords\n",
    "from nltk.stem.porter import PorterStemmer\n",
    "\n",
    "corpus = []\n",
    "#going to the whole dataset and applying cleaning \n",
    "# this is sub is used to just include words which is neceessary as \n",
    " # as here i have only choosed a-z and A,Z alphabets only\n",
    " # changing every alphabets into lower case  \n",
    " # making a list and split every words and taking as a list\n",
    " # Porter Stemmer here stems the data which find the root of the words\n",
    " # such loved is the pas tense of the love so it replace the loved with love \n",
    "  # here each applying the stopwords checking not in stop words and if it is in it so \n",
    "  # removing it\n",
    " # creating an array and appending the new cleaning list of string \n",
    "for i in range(0, 1000):\n",
    "    review = re.sub('[^a-zA-Z]', ' ', dataset['Review'][i])\n",
    "    review = review.lower()\n",
    "    review = review.split()\n",
    "    ps = PorterStemmer()\n",
    "    review = [ps.stem(word) for word in review if not word in set(stopwords.words('english'))]\n",
    "    review = ' '.join(review)\n",
    "    corpus.append(review)\n",
    "    \n",
    "#  Creating the Bag of Words model \n",
    "# creating an object of an count vectorizer\n",
    "# set of dependent variable and independent variables\n",
    "# y as same used in the classification #\n",
    "# created two different dataset X and y\n",
    "from sklearn.feature_extraction.text import CountVectorizer\n",
    "cv = CountVectorizer(max_features = 1500)\n",
    "X = cv.fit_transform(corpus).toarray()\n",
    "y = dataset.iloc[:, 1].values\n",
    "\n",
    "\n",
    "# Splitting the datset into training and testing set \n",
    "from sklearn.cross_validation import train_test_split\n",
    "X_train, X_test, y_train, y_test = train_test_split(X, y, test_size = 0.20, random_state = 0)\n",
    "\n",
    "# Fitting the dataset into the one of the classification \n",
    "# algorithm such as Naves bayes as we can also apply decision tree\n",
    "from sklearn.naive_bayes import GaussianNB\n",
    "classifier = GaussianNB()\n",
    "classifier.fit(X_train, y_train)\n",
    "\n",
    "\n",
    "# Predicting the Test of the results \n",
    "y_pred = classifier.predict(X_test)\n",
    "\n",
    "# Making the Confusion Matrix \n",
    "# so that how the many of the values is true positive or true negave \n",
    "# using the method of confusion matrix\n",
    "from sklearn.metrics import confusion_matrix\n",
    "cm = confusion_matrix(y_test,y_pred)\n",
    "print(cm)\n",
    "\n",
    "# print the accuracy \n",
    "print(\"Accuracy of the predited values are \",((55+91)/200))\n",
    "\n",
    "  \n"
   ]
  },
  {
   "cell_type": "code",
   "execution_count": null,
   "metadata": {
    "collapsed": true
   },
   "outputs": [],
   "source": []
  }
 ],
 "metadata": {
  "kernelspec": {
   "display_name": "Python 3",
   "language": "python",
   "name": "python3"
  },
  "language_info": {
   "codemirror_mode": {
    "name": "ipython",
    "version": 3
   },
   "file_extension": ".py",
   "mimetype": "text/x-python",
   "name": "python",
   "nbconvert_exporter": "python",
   "pygments_lexer": "ipython3",
   "version": "3.6.1"
  }
 },
 "nbformat": 4,
 "nbformat_minor": 2
}
